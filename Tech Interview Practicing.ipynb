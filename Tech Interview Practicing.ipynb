{
 "metadata": {
  "name": "",
  "signature": "sha256:b78f879574f94c7f7449b1b4e14e5b5b3542e3d0c4d41b50f63168e0494b038b"
 },
 "nbformat": 3,
 "nbformat_minor": 0,
 "worksheets": [
  {
   "cells": [
    {
     "cell_type": "markdown",
     "metadata": {},
     "source": [
      "\n",
      "1.) Algorithm Complexity: You need to know Big-O. If you struggle with basic big-O complexity analysis, then you are almost guaranteed not to get hired. For more information on Algorithms you can visit:  http://www.topcoder.com/tc?module=Static&d1=tutorials&d2=alg_index\n",
      "\n",
      "\n",
      "\n",
      "\n",
      "\n",
      "2.) Coding: You should know at least one programming language really well, and it should preferably be C++ or Java. C# is OK too, since it's pretty similar to Java. You will be expected to write some code in at least some of your interviews. You will be expected to know a fair amount of detail about your favorite programming language.\n",
      "*Strongly recommended* for information on Coding: Programming Interviews Exposed; Secrets to landing your next job by John Monagan and Noah Suojanen (Wiley Computer Publishing)\n",
      "http://www.wiley.com/WileyCDA/WileyTitle/productCd-047012167X.html\n",
      "\n",
      "3.) System Design: http://research.google.com/pubs/DistributedSystemsandParallelComputing.html\n",
      "Google File System http://research.google.com/archive/gfs.html\n",
      "Google Bigtable http://research.google.com/archive/bigtable.html\n",
      "Google MapReduce http://research.google.com/archive/mapreduce.html\n",
      "\n",
      "4.) Sorting: Know how to sort. Don't do bubble-sort. You should know the details of at least one n*log(n) sorting algorithm, preferably two (say, quicksort and merge sort). Merge sort can be highly useful in situations where quicksort is impractical, so take a look at it.\n",
      "\n",
      "5.) Hashtables: Arguably the single most important data structure known to mankind. You absolutely should know how they work. Be able to implement one using only arrays in your favorite language, in about the space of one interview.\n",
      "\n",
      "6.) Trees: Know about trees; basic tree construction, traversal and manipulation algorithms. Familiarize yourself with binary trees, n-ary trees, and trie-trees. Be familiar with at least one type of balanced binary tree, whether it's a red/black tree, a splay tree or an AVL tree, and know how it's implemented. Understand tree traversal algorithms: BFS and DFS, and know the difference between inorder, postorder and preorder.\n",
      "\n",
      "7.) Graphs: Graphs are really important at Google. There are 3 basic ways to represent a graph in memory (objects and pointers, matrix, and adjacency list); familiarize yourself with each representation and its pros & cons. You should know the basic graph traversal algorithms: breadth-first search and depth-first search. Know their computational complexity, their tradeoffs, and how to implement them in real code. If you get a chance, try to study up on fancier algorithms, such as Dijkstra and A*.\n",
      "\n",
      "8.) Other data structures: You should study up on as many other data structures and algorithms as possible. You should especially know about the most famous classes of NP-complete problems, such as traveling salesman and the knapsack problem, and be able to recognize them when an interviewer asks you them in disguise. Find out what NP-complete means.\n",
      "\n",
      "9.) Mathematics: Some interviewers ask basic discrete math questions. This is more prevalent at Google than at other companies because we are surrounded by counting problems, probability problems, and other Discrete Math 101 situations. Spend some time before the interview refreshing your memory on (or teaching yourself) the essentials of combinatorics and probability. You should be familiar with n-choose-k problems and their ilk \u2013 the more the better.\n",
      "\n",
      "10.) Operating Systems: Know about processes, threads and concurrency issues. Know about locks and mutexes and semaphores and monitors and how they work. Know about deadlock and livelock and how to avoid them. Know what resources a processes needs, and a thread needs, and how context switching works, and how it's initiated by the operating system and underlying hardware. Know a little about scheduling. The world is rapidly moving towards multi-core, so know the fundamentals of \"modern\" concurrency constructs.\n",
      "\n",
      "For information on System Design:\n",
      "http://research.google.com/pubs/DistributedSystemsandParallelComputing.html\n",
      "\n",
      "11.) Also, you can review some of our research publications:  http://research.google.com/pubs/papers.html\n",
      "and paper on Google\u2019s Hybrid Approach to Research:\n",
      "http://static.googleusercontent.com/media/research.google.com/en/us/pubs/archive/38149.pdf\n",
      "\n",
      "\n",
      "If you've never experienced an interview where you are expected to produce live code and talk through it.  Pull out a blank sheet of paper and start writing code, while talking it through to a friend, family member, or to yourself! This will build a high level of comfort as you get on the phone with our engineers and you will feel the conversation go smoother. \n",
      "\n",
      "Many of the questions asked in Google interviews are open-ended because our engineers are looking to see how you engage the problem. Be sure to talk out-loud your thought process about the questions you are asked, as well as your approach to problems and solutions. Ask specific questions if you need more clarification. Our engineers are not looking for the right answer, but the right approach and methods of thinking, within relevance, say EVERYTHING you are thinking!!\n",
      "\n",
      "As you prepare, build toward thinking about ways to improve the solution you'll present. In many cases, the first answer that springs to mind may need some refining. It is worthwhile to talk about your initial thoughts to a question. A brute force explanation will be received less well than taking time to compose a more efficient solution. Ask clarifying questions if you do not understand the problem or need more information. Many of the questions asked in Google interviews are deliberately underspecified because our engineers are looking to see how you engage the problem. In particular, they are looking to see which areas leap to your mind as the most important piece of the technological puzzle you've been presented.\n",
      "\n",
      "Also, one of our senior engineers has recommended candidates read Programming Interviews Exposed: Secrets to Landing Your Next Job by John Mongan and Noah Suojanen to give you an edge. It's a good book to have in general. Two other books that may be helpful are: \"Programming Pearls\" by Jon Bentley - Programming questions that get you thinking outside of the box; and lastly, \"Cormen/Leiserson/Rivest/Stein: Introduction to Algorithms\" or the CLR textbook.\n",
      "\n",
      "Please take the opportunity to review the following links.  They provide additional insights to interviewing/working at Google.  Googlers thrive in small, focused teams and high-energy environments, believe in the ability of technology to change the world, and are as passionate about their lives as they are about their work.\n",
      "\n",
      "Tips for Interviewing at Google\n",
      "\n",
      "Google Products\n",
      "\n",
      "Five Essential Phone Screen Questions by Steve Yegge (Google Engineer)\n",
      "\n",
      "Types of Algorithm Questions Google Asks: TopCoder Tutorials\n",
      "\n",
      "The Official Google Blog: \u201cBaby steps to a new job\u201d by Gretta Cook (Google Engineer)\n",
      "\n",
      "\u201cHow to Get Hired\u201d by Dan Kegel (Google Engineer)\n",
      "\n",
      "Page: http://www.google.com/about/careers/students/guide-to-technical-development.html\n",
      "\n",
      "Card: http://www.google.com/about/careers/students/ "
     ]
    },
    {
     "cell_type": "markdown",
     "metadata": {},
     "source": [
      "<b>Q: \"Write a program that breaks up a string of words with no spaces into a string with the appropriate spaces\"</b>\n",
      "<br />\n",
      "source: https://www.youtube.com/watch?v=oWbUtlUhwa8&feature=youtu.be\n",
      "<br />\n",
      "tags: [google] [string] [spaces] [lexer]"
     ]
    },
    {
     "cell_type": "code",
     "collapsed": false,
     "input": [
      "words_file = open(\"/usr/share/dict/words\", 'r')\n",
      "dictionary = words_file.read().splitlines()\n",
      "dictionary = filter(lambda w : len(w) > 1, dictionary)\n",
      "\n",
      "def is_word(w):\n",
      "    def binary_search(lo, hi):        \n",
      "        if not(lo <= hi < len(dictionary)):\n",
      "            return -1 # index not found\n",
      "        \n",
      "        mid = (lo + hi)/2 # integer division\n",
      "        \n",
      "        if key < dictionary[mid]:\n",
      "            return binary_search(lo, mid-1)\n",
      "        elif key > dictionary[mid]:\n",
      "            return binary_search(mid+1, hi)\n",
      "        else:\n",
      "            return mid\n",
      "        \n",
      "    key = w\n",
      "    ind = binary_search(0, len(dictionary)-1)\n",
      "    \n",
      "    return ind >= 0\n",
      "          \n",
      "def my_lex(no_space_word_string):\n",
      "    words = []\n",
      "    start_idx = 0\n",
      "    end_idx = 1\n",
      "    substring = no_space_word_string[start_idx:end_idx]\n",
      "    \n",
      "    while end_idx < len(no_space_word_string):\n",
      "        substring = no_space_word_string[start_idx:end_idx]\n",
      "        \n",
      "        if is_word(substring):\n",
      "            words.append(substring)\n",
      "            start_idx = end_idx\n",
      "            end_idx = start_idx+1\n",
      "        else:\n",
      "            end_idx += 1\n",
      "\n",
      "    end_idx += 1\n",
      "    substring = no_space_word_string[start_idx:end_idx]\n",
      "    words.append(substring)\n",
      "    \n",
      "    return words\n",
      "\n",
      "print my_lex(\"fastman\"), my_lex(\"applesauceman\"), my_lex(\"peanutbutter\"), my_lex(\"iamdoingwell\")"
     ],
     "language": "python",
     "metadata": {},
     "outputs": [
      {
       "output_type": "stream",
       "stream": "stdout",
       "text": [
        "['fa', 'stman'] ['apple', 'sauce', 'ma', 'n'] ['pea', 'nu', 'tbutter']\n"
       ]
      }
     ],
     "prompt_number": 77
    },
    {
     "cell_type": "markdown",
     "metadata": {},
     "source": [
      "<b>Q: \"Write a function to reverse a string\"</b>\n",
      "<br />\n",
      "source: https://sites.google.com/site/steveyegge2/five-essential-phone-screen-questions\n",
      "<br />\n",
      "tags: [amazon] [string] [reverse]"
     ]
    },
    {
     "cell_type": "code",
     "collapsed": false,
     "input": [
      "def reverse_string(s):\n",
      "    char_list = list(s)\n",
      "    \n",
      "    for i in range(0, len(s)/2):\n",
      "        t = char_list[i]\n",
      "        char_list[i] = char_list[len(s) - i - 1]\n",
      "        char_list[len(s) - i - 1] = t\n",
      "        \n",
      "    return ''.join(char_list)\n",
      "\n",
      "print reverse_string(\"Madam, I'm Adam\"), reverse_string(\"\"), reverse_string(\"ab\"), reverse_string(\"abc\")"
     ],
     "language": "python",
     "metadata": {},
     "outputs": [
      {
       "output_type": "stream",
       "stream": "stdout",
       "text": [
        "madA m'I ,madaM  ba cba\n"
       ]
      }
     ],
     "prompt_number": 80
    },
    {
     "cell_type": "code",
     "collapsed": false,
     "input": [
      "!cat ReverseString.java ; javac ReverseString.java ; java ReverseString \"Madam, I'm Adam\""
     ],
     "language": "python",
     "metadata": {},
     "outputs": [
      {
       "output_type": "stream",
       "stream": "stdout",
       "text": [
        "public class ReverseString {\r\n",
        "\r\n",
        "    private static String reverseString(String s) {\r\n",
        "        int middleIndex = s.length()/2;\r\n",
        "        char[] charsArr = s.toCharArray();\r\n",
        "\r\n",
        "        for (int i = 0; i < middleIndex; i++) {\r\n",
        "            char t = charsArr[i];\r\n",
        "            charsArr[i] = charsArr[s.length() - i - 1];\r\n",
        "            charsArr[s.length() - i - 1] = t;\r\n",
        "        }\r\n",
        "\r\n",
        "        return new String(charsArr);\r\n",
        "    }\r\n",
        "\r\n",
        "    public static void main(String[] args) {\r\n",
        "        System.out.printf(\"Argument String: %s\\n\", args[0]);\r\n",
        "        System.out.printf(\"Reversed String: %s\\n\", reverseString(args[0]));\r\n",
        "    }\r\n",
        "}\r\n"
       ]
      },
      {
       "output_type": "stream",
       "stream": "stdout",
       "text": [
        "Argument String: Madam, I'm Adam\r\n",
        "Reversed String: madA m'I ,madaM\r\n"
       ]
      }
     ],
     "prompt_number": 106
    },
    {
     "cell_type": "markdown",
     "metadata": {},
     "source": [
      "<b>Q: \"A to I: Given an array of integers as characters, write a function to return an integer.\"</b>\n",
      "<br />\n",
      "source: http://courses.csail.mit.edu/iap/interview/Hacking_a_Google_Interview_Handout_1.pdf\n",
      "<br />\n",
      "tags: [mit] [atoi] [integer] [array]"
     ]
    },
    {
     "cell_type": "code",
     "collapsed": false,
     "input": [
      "!cat AtoI.java ; javac AtoI.java ; java AtoI"
     ],
     "language": "python",
     "metadata": {},
     "outputs": [
      {
       "output_type": "stream",
       "stream": "stdout",
       "text": [
        "public class AtoI {\r\n",
        "\r\n",
        "    public static int convert(char[] chars) {\r\n",
        "        int result = 0;\r\n",
        "\r\n",
        "        for (int i = 0, place = 0; i < chars.length; i++, place++) {\r\n",
        "            int anInt = Character.getNumericValue(chars[chars.length-i-1]);\r\n",
        "            result += anInt * (Math.pow(10, place));\r\n",
        "        }\r\n",
        "\r\n",
        "        return result;\r\n",
        "    }\r\n",
        "\r\n",
        "    public static void main (String[] args) {\r\n",
        "        char[] oneToFive = {'1','2','3','4','5'};\r\n",
        "        System.out.printf(\"atoi([1, 2, 3, 4, 5]) -> %d\", convert(oneToFive));\r\n",
        "    }\r\n",
        "}\r\n"
       ]
      },
      {
       "output_type": "stream",
       "stream": "stdout",
       "text": [
        "atoi([1, 2, 3, 4, 5]) -> 12345"
       ]
      }
     ],
     "prompt_number": 105
    },
    {
     "cell_type": "markdown",
     "metadata": {},
     "source": [
      "<b>Q: \"Write a function to compute the nth Fibonacci number\"</b>\n",
      "<br />\n",
      "source: https://sites.google.com/site/steveyegge2/five-essential-phone-screen-questions\n",
      "<br />\n",
      "tags: [amazon] [fibonacci] [number]"
     ]
    },
    {
     "cell_type": "code",
     "collapsed": false,
     "input": [
      "!cat Fib.java ; javac Fib.java ; java Fib"
     ],
     "language": "python",
     "metadata": {},
     "outputs": [
      {
       "output_type": "stream",
       "stream": "stdout",
       "text": [
        "public class Fib {\r\n",
        "\r\n",
        "\tprivate static final int SIZE = 100;\r\n",
        "\tprivate static final int[] memo = new int[SIZE];\r\n",
        "\r\n",
        "\tstatic {\r\n",
        "\t\tfor (int i = 0; i < SIZE; i++) {\r\n",
        "\t\t\tmemo[i] = -1;\r\n",
        "\t\t}\r\n",
        "\t}\r\n",
        "\r\n",
        "\tpublic static int rec(int n) {\r\n",
        "\t\tif (n < 0) {\r\n",
        "\t\t\treturn -1;\r\n",
        "\t\t}\r\n",
        "\t\telse if (memo[n] == -1) {\r\n",
        "\t\t\tif (n == 0 | n == 1) {\r\n",
        "\t\t\t\tmemo[n] = n;\r\n",
        "\t\t\t}\r\n",
        "\t\t\telse {\r\n",
        "\t\t\t\tmemo[n] = rec(n-1) + rec(n-2);\r\n",
        "\t\t\t}\r\n",
        "\t\t}\r\n",
        "\r\n",
        "\t\treturn memo[n];\r\n",
        "\t}\r\n",
        "\r\n",
        "\tpublic static int iter(int n) {\r\n",
        "\t\tif (n == 0 || n == 1) {\r\n",
        "\t\t\treturn n;\r\n",
        "\t\t}\r\n",
        "\t\telse if (n > 1) {\r\n",
        "\t\t\tint n1 = 1;\r\n",
        "\t\t\tint n2 = 1;\r\n",
        "\r\n",
        "\t\t\tfor (int i = 0; i < n-2; i++) {\r\n",
        "\t\t\t\tint n3 = n2 + n1;\r\n",
        "\t\t\t\tn1 = n2;\r\n",
        "\t\t\t\tn2 = n3;\r\n",
        "\t\t\t}\r\n",
        "\r\n",
        "\t\t\treturn n2;\r\n",
        "\t\t}\r\n",
        "\t\telse {\r\n",
        "\t\t\treturn -1;\r\n",
        "\t\t}\r\n",
        "\t}\r\n",
        "\r\n",
        "\tpublic static int binet(int n) {\r\n",
        "\t\treturn 0;\r\n",
        "\t}\r\n",
        "\r\n",
        "\tpublic static void main(String[] args) {\r\n",
        "\r\n",
        "\t\tSystem.out.println(\"REC\");\r\n",
        "\t\tint[] solRec = new int[SIZE];\r\n",
        "\r\n",
        "\t\tfor (int n = 0; n < SIZE; n++) {\r\n",
        "\t\t\tsolRec[n] = rec(n);\r\n",
        "\t\t}\r\n",
        "\t\tfor (int i = 0; i < SIZE; i++) {\r\n",
        "\t\t\tSystem.out.printf(\"%d \", solRec[i]);\r\n",
        "\t\t}\r\n",
        "\r\n",
        "\t\tSystem.out.println();\r\n",
        "\r\n",
        "\t\tSystem.out.println(\"ITER\");\r\n",
        "\t\tint[] solIter = new int[SIZE];\r\n",
        "\r\n",
        "\t\tfor (int n = 0; n < SIZE; n++) {\r\n",
        "\t\t\tsolIter[n] = iter(n);\r\n",
        "\t\t}\r\n",
        "\t\tfor (int i = 0; i < SIZE; i++) {\r\n",
        "\t\t\tSystem.out.printf(\"%d \", solIter[i]);\r\n",
        "\t\t}\r\n",
        "\r\n",
        "\t}\r\n",
        "}"
       ]
      },
      {
       "output_type": "stream",
       "stream": "stdout",
       "text": [
        "REC\r\n",
        "0 1 1 2 3 5 8 13 21 34 55 89 144 233 377 610 987 1597 2584 4181 6765 10946 17711 28657 46368 75025 121393 196418 317811 514229 832040 1346269 2178309 3524578 5702887 9227465 14930352 24157817 39088169 63245986 102334155 165580141 267914296 433494437 701408733 1134903170 1836311903 -1323752223 512559680 -811192543 -298632863 -1109825406 -1408458269 1776683621 368225352 2144908973 -1781832971 363076002 -1418756969 -1055680967 1820529360 764848393 -1709589543 -944741150 1640636603 695895453 -1958435240 -1262539787 1073992269 -188547518 885444751 696897233 1582341984 -2015728079 -433386095 1845853122 1412467027 -1036647147 375819880 -660827267 -285007387 -945834654 -1230842041 2118290601 887448560 -1289228135 -401779575 -1691007710 -2092787285 511172301 -1581614984 -1070442683 1642909629 572466946 -2079590721 -1507123775 708252800 -798870975 -90618175 -889489150 \r\n",
        "ITER\r\n",
        "0 1 1 2 3 5 8 13 21 34 55 89 144 233 377 610 987 1597 2584 4181 6765 10946 17711 28657 46368 75025 121393 196418 317811 514229 832040 1346269 2178309 3524578 5702887 9227465 14930352 24157817 39088169 63245986 102334155 165580141 267914296 433494437 701408733 1134903170 1836311903 -1323752223 512559680 -811192543 -298632863 -1109825406 -1408458269 1776683621 368225352 2144908973 -1781832971 363076002 -1418756969 -1055680967 1820529360"
       ]
      },
      {
       "output_type": "stream",
       "stream": "stdout",
       "text": [
        " 764848393 -1709589543 -944741150 1640636603 695895453 -1958435240 -1262539787 1073992269 -188547518 885444751 696897233 1582341984 -2015728079 -433386095 1845853122 1412467027 -1036647147 375819880 -660827267 -285007387 -945834654 -1230842041 2118290601 887448560 -1289228135 -401779575 -1691007710 -2092787285 511172301 -1581614984 -1070442683 1642909629 572466946 -2079590721 -1507123775 708252800 -798870975 -90618175 -889489150 "
       ]
      }
     ],
     "prompt_number": 123
    },
    {
     "cell_type": "markdown",
     "metadata": {},
     "source": [
      "<b>Q: \" Example 3:  Print out the grade-school multiplication table up to 12x12 \"</b>\n",
      "<br />\n",
      "source: https://sites.google.com/site/steveyegge2/five-essential-phone-screen-questions\n",
      "<br />\n",
      "tags: [amazon] [table] [multiply]"
     ]
    },
    {
     "cell_type": "code",
     "collapsed": false,
     "input": [
      "!cat MultTable.java ; javac MultTable.java ; java MultTable"
     ],
     "language": "python",
     "metadata": {},
     "outputs": [
      {
       "output_type": "stream",
       "stream": "stdout",
       "text": [
        "public class MultTable {\r\n",
        "\tpublic static void ofSizeN(int n) {\r\n",
        "\t\tfor (int i = 1; i < n+1; i++) {\r\n",
        "\t\t\tSystem.out.printf(\"   %d\", i);\r\n",
        "\t\t}\r\n",
        "\r\n",
        "\t\tSystem.out.println();\r\n",
        "\r\n",
        "\t\tfor (int i = 1; i < n+1; i++) {\r\n",
        "\t\t\tSystem.out.printf(\"%d   \", i);\r\n",
        "\r\n",
        "\t\t\tfor (int j = 1; j < n+1; j++) {\r\n",
        "\t\t\t\tSystem.out.printf(\"%d   \", i*j);\r\n",
        "\t\t\t}\r\n",
        "\r\n",
        "\t\t\tSystem.out.println();\r\n",
        "\t\t}\r\n",
        "\t}\r\n",
        "\r\n",
        "\tpublic static void main(String[] args) {\r\n",
        "\t\tofSizeN(12);\r\n",
        "\t}\r\n",
        "}"
       ]
      },
      {
       "output_type": "stream",
       "stream": "stdout",
       "text": [
        "   1   2   3   4   5   6   7   8   9   10   11   12\r\n",
        "1   1   2   3   4   5   6   7   8   9   10   11   12   \r\n",
        "2   2   4   6   8   10   12   14   16   18   20   22   24   \r\n",
        "3   3   6   9   12   15   18   21   24   27   30   33   36   \r\n",
        "4   4   8   12   16   20   24   28   32   36   40   44   48   \r\n",
        "5   5   10   15   20   25   30   35   40   45   50   55   60   \r\n",
        "6   6   12   18   24   30   36   42   48   54   60   66   72   \r\n",
        "7   7   14   21   28   35   42   49   56   63   70   77   84   \r\n",
        "8   8   16   24   32   40   48   56   64   72   80   88   96   \r\n",
        "9   9   18   27   36   45   54   63   72   81   90   99   108   \r\n"
       ]
      },
      {
       "output_type": "stream",
       "stream": "stdout",
       "text": [
        "10   10   20   30   40   50   60   70   80   90   100   110   120   \r\n",
        "11   11   22   33   44   55   66   77   88   99   110   121   132   \r\n",
        "12   12   24   36   48   60   72   84   96   108   120   132   144   \r\n"
       ]
      }
     ],
     "prompt_number": 126
    },
    {
     "cell_type": "markdown",
     "metadata": {},
     "source": [
      "<b>Q: \" Example 4:  Write a function that sums up integers from a text file, one int per line. \"</b>\n",
      "<br />\n",
      "source: https://sites.google.com/site/steveyegge2/five-essential-phone-screen-questions\n",
      "<br />\n",
      "tags: [amazon] [integers] [text] [file]"
     ]
    },
    {
     "cell_type": "code",
     "collapsed": false,
     "input": [
      "import numpy as np\n",
      "from numpy import random\n",
      "\n",
      "SIZE = 10\n",
      "randomNumbers = np.random.randn(SIZE)\n",
      "randomIntegers = map(lambda n : int(n * 100), randomNumbers)\n",
      "randomIntegersAsStrings = map(str, randomIntegers)\n",
      "ints_file_contents = '\\n'.join(randomIntegersAsStrings)\n",
      "int_file = open(\"int_file\", 'w')\n",
      "int_file.write(ints_file_contents)\n",
      "int_file.close()"
     ],
     "language": "python",
     "metadata": {},
     "outputs": [],
     "prompt_number": 155
    },
    {
     "cell_type": "code",
     "collapsed": false,
     "input": [
      "!cat int_file"
     ],
     "language": "python",
     "metadata": {},
     "outputs": [
      {
       "output_type": "stream",
       "stream": "stdout",
       "text": [
        "11\r\n",
        "215\r\n",
        "73\r\n",
        "43\r\n",
        "75\r\n",
        "31\r\n",
        "-129\r\n",
        "112\r\n",
        "26\r\n",
        "-91"
       ]
      }
     ],
     "prompt_number": 157
    },
    {
     "cell_type": "code",
     "collapsed": false,
     "input": [
      "!cat SumIntFromFile.java ; javac SumIntFromFile.java ; java SumIntFromFile int_file"
     ],
     "language": "python",
     "metadata": {},
     "outputs": [
      {
       "output_type": "stream",
       "stream": "stdout",
       "text": [
        "import java.io.BufferedReader;\r\n",
        "import java.io.FileReader;\r\n",
        "import java.io.IOException;\r\n",
        "\r\n",
        "public class SumIntFromFile {\r\n",
        "\tpublic static void main(String[] args) {\r\n",
        "\t\tString fname = args[0];\r\n",
        "\t\tint result = 0;\r\n",
        "\r\n",
        "\t        BufferedReader br = null;\r\n",
        "\t        String line = \"\";\r\n",
        "\r\n",
        "\t\ttry {\r\n",
        "\t\t\tbr = new BufferedReader(new FileReader(fname));\r\n",
        "\t\t\tline = br.readLine();\r\n",
        "\r\n",
        "\t\t\twhile (line != null) {\r\n",
        "\t\t\t\tint n = Integer.parseInt(line);\r\n",
        "\t\t\t\tresult += n;\r\n",
        "\t\t\t\tline = br.readLine();\r\n",
        "\t\t\t}\r\n",
        "                        \r\n",
        "                        br.close();\r\n",
        "\t\t}\r\n",
        "\t\tcatch (IOException ex) {\r\n",
        "\t\t\tSystem.out.println(\"Problem reading from file!\");\r\n",
        "\t\t}\r\n",
        "\r\n",
        "\t\tSystem.out.println(result);\r\n",
        "\t}\r\n",
        "}\r\n"
       ]
      },
      {
       "output_type": "stream",
       "stream": "stdout",
       "text": [
        "366\r\n"
       ]
      }
     ],
     "prompt_number": 159
    },
    {
     "cell_type": "markdown",
     "metadata": {},
     "source": [
      "<b>Q: \" Example 5:  Write function to print the odd numbers from 1 to 99. \"</b>\n",
      "<br />\n",
      "source: https://sites.google.com/site/steveyegge2/five-essential-phone-screen-questions\n",
      "<br />\n",
      "tags: [amazon] [integers] [odd] [numbers] [steveyegge]"
     ]
    },
    {
     "cell_type": "code",
     "collapsed": false,
     "input": [
      "!cat OddNumbers.java ; javac OddNumbers.java ; java OddNumbers"
     ],
     "language": "python",
     "metadata": {},
     "outputs": [
      {
       "output_type": "stream",
       "stream": "stdout",
       "text": [
        "public class OddNumbers {\r\n",
        "\r\n",
        "private static final int MININT = 1;\r\n",
        "\r\n",
        "private static final int MAXINT = 99;\r\n",
        "\r\n",
        "    public static void main(String[] args) {\r\n",
        "\r\n",
        "       \r\n",
        "\r\n",
        "        for (int i = MININT; i <= MAXINT; i++) {\r\n",
        "\r\n",
        "            if (i % 2 == 1) {\r\n",
        "\r\n",
        "                System.out.println(i);\r\n",
        "\r\n",
        "            }\r\n",
        "\r\n",
        "        }\r\n",
        "\r\n",
        "    }\r\n",
        "\r\n",
        "}"
       ]
      },
      {
       "output_type": "stream",
       "stream": "stdout",
       "text": [
        "1\r\n",
        "3\r\n",
        "5\r\n",
        "7\r\n",
        "9\r\n",
        "11\r\n",
        "13\r\n",
        "15\r\n",
        "17\r\n",
        "19\r\n",
        "21\r\n",
        "23\r\n",
        "25\r\n",
        "27\r\n",
        "29\r\n",
        "31\r\n",
        "33\r\n",
        "35\r\n",
        "37\r\n",
        "39\r\n",
        "41\r\n",
        "43\r\n",
        "45\r\n",
        "47\r\n",
        "49\r\n",
        "51\r\n",
        "53\r\n",
        "55\r\n",
        "57\r\n",
        "59\r\n",
        "61\r\n",
        "63\r\n",
        "65\r\n",
        "67\r\n",
        "69\r\n",
        "71\r\n",
        "73\r\n",
        "75\r\n",
        "77\r\n",
        "79\r\n",
        "81\r\n",
        "83\r\n",
        "85\r\n",
        "87\r\n",
        "89\r\n",
        "91\r\n",
        "93\r\n",
        "95\r\n",
        "97\r\n",
        "99\r\n"
       ]
      }
     ],
     "prompt_number": 167
    },
    {
     "cell_type": "markdown",
     "metadata": {},
     "source": [
      "<b>Q: \"Write FizzBuzz\"</b>\n",
      "<br />\n",
      "source: http://imranontech.com/2007/01/24/using-fizzbuzz-to-find-developers-who-grok-coding/\n",
      "<br />\n",
      "tags: [amazon] [integers] [odd] [numbers] [steveyegge]\n",
      "\n"
     ]
    },
    {
     "cell_type": "code",
     "collapsed": false,
     "input": [
      "!cat FizzBuzz.java ; javac FizzBuzz.java ; java FizzBuzz"
     ],
     "language": "python",
     "metadata": {},
     "outputs": [
      {
       "output_type": "stream",
       "stream": "stdout",
       "text": [
        "public class FizzBuzz {\r\n",
        "\r\n",
        "private static final int SIZE = 100;\r\n",
        "\r\n",
        "    public static void main(String[] args) {\r\n",
        "\r\n",
        "       \r\n",
        "\r\n",
        "        for (int i = 1; i < SIZE+1; i++) {\r\n",
        "\r\n",
        "            System.out.printf(\"%d \", i);\r\n",
        "\r\n",
        "            if (i % 3 == 0 && i % 5 == 0) {\r\n",
        "\r\n",
        "                System.out.println(\"FizzBuzz\");\r\n",
        "\r\n",
        "            }\r\n",
        "\r\n",
        "            else if (i % 3 == 0) {\r\n",
        "\r\n",
        "                System.out.println(\"Fizz\");\r\n",
        "\r\n",
        "            }\r\n",
        "\r\n",
        "            else if (i % 5 == 0) {\r\n",
        "\r\n",
        "                System.out.println(\"Buzz\");\r\n",
        "\r\n",
        "            }\r\n",
        "            else {\r\n",
        "                System.out.println();\r\n",
        "            }\r\n",
        "\r\n",
        "        }\r\n",
        "\r\n",
        "    }\r\n",
        "\r\n",
        "}"
       ]
      },
      {
       "output_type": "stream",
       "stream": "stdout",
       "text": [
        "1 \r\n",
        "2 \r\n",
        "3 Fizz\r\n",
        "4 \r\n",
        "5 Buzz\r\n",
        "6 Fizz\r\n",
        "7 \r\n",
        "8 \r\n",
        "9 Fizz\r\n",
        "10 Buzz\r\n",
        "11 \r\n",
        "12 Fizz\r\n",
        "13 \r\n",
        "14 \r\n",
        "15 FizzBuzz\r\n",
        "16 \r\n",
        "17 \r\n",
        "18 Fizz\r\n",
        "19 \r\n",
        "20 Buzz\r\n",
        "21 Fizz\r\n",
        "22 \r\n",
        "23 \r\n",
        "24 Fizz\r\n",
        "25 Buzz\r\n",
        "26 \r\n",
        "27 Fizz\r\n",
        "28 \r\n",
        "29 \r\n",
        "30 FizzBuzz\r\n",
        "31 \r\n",
        "32 \r\n",
        "33 Fizz\r\n",
        "34 \r\n",
        "35 Buzz\r\n",
        "36 Fizz\r\n",
        "37 \r\n",
        "38 \r\n",
        "39 Fizz\r\n",
        "40 Buzz\r\n",
        "41 \r\n",
        "42 Fizz\r\n",
        "43 \r\n",
        "44 \r\n",
        "45 FizzBuzz\r\n",
        "46 \r\n",
        "47 \r\n",
        "48 Fizz\r\n",
        "49 \r\n",
        "50 Buzz\r\n",
        "51 Fizz\r\n",
        "52 \r\n",
        "53 \r\n",
        "54 Fizz\r\n",
        "55 Buzz\r\n",
        "56 \r\n",
        "57 Fizz\r\n",
        "58 \r\n",
        "59 \r\n",
        "60 FizzBuzz\r\n",
        "61 \r\n",
        "62 \r\n",
        "63 Fizz\r\n",
        "64 \r\n",
        "65 Buzz\r\n",
        "66 Fizz\r\n",
        "67 \r\n",
        "68 \r\n",
        "69 Fizz\r\n",
        "70 Buzz\r\n",
        "71 \r\n",
        "72 Fizz\r\n",
        "73 \r\n",
        "74 \r\n",
        "75 FizzBuzz\r\n",
        "76 \r\n",
        "77 \r\n",
        "78 Fizz\r\n",
        "79 \r\n",
        "80 Buzz\r\n",
        "81 Fizz\r\n",
        "82 \r\n",
        "83 \r\n",
        "84 Fizz\r\n",
        "85 Buzz\r\n",
        "86 \r\n",
        "87 Fizz\r\n",
        "88 \r\n",
        "89 \r\n",
        "90 FizzBuzz\r\n",
        "91 \r\n",
        "92 \r\n",
        "93 Fizz\r\n",
        "94 \r\n",
        "95 Buzz\r\n",
        "96 Fizz\r\n",
        "97 \r\n",
        "98 \r\n",
        "99 Fizz\r\n",
        "100 Buzz\r\n"
       ]
      }
     ],
     "prompt_number": 165
    },
    {
     "cell_type": "markdown",
     "metadata": {},
     "source": [
      "<b> Q: \" Example 6:  Find the largest int value in an int array. \"</b>\n",
      "<br />\n",
      "source: https://sites.google.com/site/steveyegge2/five-essential-phone-screen-questions\n",
      "<br />\n",
      "tags: [amazon] [array] [integers] [largest] [steveyegge]"
     ]
    },
    {
     "cell_type": "code",
     "collapsed": false,
     "input": [
      "!cat LargestInt.java; javac LargestInt.java ; java LargestInt"
     ],
     "language": "python",
     "metadata": {},
     "outputs": [
      {
       "output_type": "stream",
       "stream": "stdout",
       "text": [
        "import java.util.NoSuchElementException;\r\n",
        "\r\n",
        "public class LargestInt {\r\n",
        "\r\n",
        "private static final int[] array1 = {5,4,3,2,1};\r\n",
        "\r\n",
        "private static final int[] array2 = {5};\r\n",
        "\r\n",
        "private static final int[] array3 = {};\r\n",
        "\r\n",
        "public static int find(int[] array) {\r\n",
        "\r\n",
        "    if (array.length == 0) {\r\n",
        "\r\n",
        "        throw new NoSuchElementException();\r\n",
        "\r\n",
        "    }\r\n",
        "\r\n",
        "    int largest = array[0];\r\n",
        "\r\n",
        "    for (int i = 0 ; i < array.length; i++) {\r\n",
        "\r\n",
        "        if (array[i] > largest) {\r\n",
        "\r\n",
        "            largest = array[i];\r\n",
        "\r\n",
        "        }\r\n",
        "\r\n",
        "    }\r\n",
        "\r\n",
        "    return largest;\r\n",
        "\r\n",
        "}\r\n",
        "\r\n",
        "    public static void main(String[] args) {\r\n",
        "\r\n",
        "       \r\n",
        "\r\n",
        "        System.out.println(find(array1));\r\n",
        "\r\n",
        "        System.out.println(find(array2));\r\n",
        "\r\n",
        "        System.out.println(find(array3));\r\n",
        "\r\n",
        "    }\r\n",
        "\r\n",
        "}"
       ]
      },
      {
       "output_type": "stream",
       "stream": "stdout",
       "text": [
        "5\r\n",
        "5\r\n",
        "Exception in thread \"main\" "
       ]
      },
      {
       "output_type": "stream",
       "stream": "stdout",
       "text": [
        "java.util.NoSuchElementException\r\n",
        "\tat LargestInt.find(LargestInt.java:15)\r\n",
        "\tat LargestInt.main(LargestInt.java:43)\r\n"
       ]
      }
     ],
     "prompt_number": 179
    },
    {
     "cell_type": "markdown",
     "metadata": {},
     "source": [
      "<b> Q: \"Example 7:  Format an RGB value (three 1-byte numbers) as a 6-digit hexadecimal string. \"</b>\n",
      "<br />\n",
      "source: https://sites.google.com/site/steveyegge2/five-essential-phone-screen-questions\n",
      "<br />\n",
      "tags: [amazon] [array] [byte] [rgb] [steveyegge]"
     ]
    },
    {
     "cell_type": "code",
     "collapsed": false,
     "input": [
      "!cat FormatRGB.java ; javac FormatRGB.java ; java FormatRGB"
     ],
     "language": "python",
     "metadata": {},
     "outputs": [
      {
       "output_type": "stream",
       "stream": "stdout",
       "text": [
        "public class FormatRGB {\r\n",
        "\r\n",
        "    private static char[] hexSymbols = {'0','1','2','3','4','5','6','7','8','9','A','B','C','D','E','F'};\r\n",
        "\r\n",
        "    public static String format(int r, int g, int b) {\r\n",
        "\r\n",
        "        return toHex(r) + toHex(g) + toHex(b);\r\n",
        "\r\n",
        "    }\r\n",
        "\r\n",
        "    public static String toHex(int c) {\r\n",
        "\r\n",
        "        StringBuilder sb = new StringBuilder();\r\n",
        "\r\n",
        "        int quotient = c;\r\n",
        "        int remainder = c;\r\n",
        "\r\n",
        "        while (quotient > 0) {\r\n",
        "            remainder = quotient % hexSymbols.length;\r\n",
        "            quotient = quotient / hexSymbols.length;\r\n",
        "            sb.insert(0, hexSymbols[remainder]);\r\n",
        "        }\r\n",
        "\r\n",
        "        //sb.insert(0, hexSymbols[remainder]);\r\n",
        "\r\n",
        "        return sb.toString();\r\n",
        "    }\r\n",
        "\r\n",
        "    public static void main(String[] args) {\r\n",
        "\r\n",
        "        System.out.println(format(255, 0, 128));\r\n",
        "        System.out.println(format(32, 0, 16));\r\n",
        "    }\r\n",
        "}"
       ]
      },
      {
       "output_type": "stream",
       "stream": "stdout",
       "text": [
        "FF80\r\n",
        "2010\r\n"
       ]
      }
     ],
     "prompt_number": 190
    },
    {
     "cell_type": "code",
     "collapsed": false,
     "input": [],
     "language": "python",
     "metadata": {},
     "outputs": []
    }
   ],
   "metadata": {}
  }
 ]
}